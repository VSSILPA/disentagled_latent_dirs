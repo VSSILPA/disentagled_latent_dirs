{
 "cells": [
  {
   "cell_type": "code",
   "execution_count": 1,
   "metadata": {},
   "outputs": [],
   "source": [
    "from torchvision.transforms import Resize\n",
    "from utils import *\n",
    "from models.closedform.utils import load_generator\n",
    "from torchvision.utils import save_image\n",
    "import numpy as np\n",
    "import random\n",
    "import torch.nn.functional as F\n",
    "from torchvision.models import resnet18\n",
    "import torch.nn as nn\n",
    "import matplotlib.pylab as plt\n",
    "import torchvision\n",
    "import cv2\n",
    "from IPython import display\n",
    "%matplotlib inline"
   ]
  },
  {
   "cell_type": "code",
   "execution_count": 2,
   "metadata": {},
   "outputs": [],
   "source": [
    "def set_seed(seed):\n",
    "        torch.manual_seed(seed)\n",
    "        torch.cuda.manual_seed_all(seed)\n",
    "        torch.backends.cudnn.deterministic = True\n",
    "        torch.backends.cudnn.benchmark = False\n",
    "        np.random.seed(seed)\n",
    "        random.seed(seed)\n",
    "        os.environ['PYTHONHASHSEED'] = str(seed)"
   ]
  },
  {
   "cell_type": "markdown",
   "metadata": {},
   "source": [
    "## Configurations"
   ]
  },
  {
   "cell_type": "code",
   "execution_count": 3,
   "metadata": {},
   "outputs": [],
   "source": [
    "random_seed = 1234\n",
    "set_seed(random_seed)\n",
    "load_codes = True\n",
    "algo = 'ortho'\n",
    "root_dir= '/home/adarsh/PycharmProjects/disentagled_latent_dirs'\n",
    "result_path = os.path.join(root_dir,  'results/anime/closed_form_ours/qualitative_analysis')"
   ]
  },
  {
   "cell_type": "markdown",
   "metadata": {},
   "source": [
    "## Model Selection"
   ]
  },
  {
   "cell_type": "code",
   "execution_count": null,
   "metadata": {},
   "outputs": [],
   "source": [
    "deformator_path = os.path.join(root_dir, 'pretrained_models/deformators/ClosedForm/stylegan_animeface512/stylegan_animeface512.pkl')\n",
    "_, cf_deformator, _ = torch.load(deformator_path, map_location='cpu')\n",
    "cf_deformator = torch.FloatTensor(cf_deformator).cuda()\n",
    "\n",
    "deformator_path = os.path.join(root_dir, 'results/celeba_hq/closed_form_ours/models/18000_model.pkl')\n",
    "algo == 'ortho'\n",
    "if algo == 'ortho':\n",
    "    deformator = torch.load(deformator_path)['deformator']['ortho_mat']\n",
    "    dse_deformator = deformator.T\n",
    "elif algo == 'linear':\n",
    "    deformator = torch.load(os.path.join(deformator_path))['deformator']\n",
    "    dse_deformator = deformator.T\n",
    "        \n",
    "generator = load_generator(None, model_name='pggan_celebahq1024')\n",
    "\n",
    "if load_codes:\n",
    "#     codes = np.load(os.path.join(root_dir, 'pretrained_models/latent_codes/pggan_celebahq1024_latents.npy'))\n",
    "#     codes = torch.from_numpy(codes).type(torch.FloatTensor).cuda()\n",
    "    codes = torch.load(os.path.join(root_dir, 'results/celeba_hq/closed_form_ours/quantitative_analysis/z_analysis.pkl'))\n",
    "else:\n",
    "    num_samples = 10\n",
    "    codes = torch.randn(num_samples, generator.z_space_dim).cuda()\n",
    "    codes = generator.layer0.pixel_norm(codes)\n",
    "    codes = codes.detach()"
   ]
  },
  {
   "cell_type": "code",
   "execution_count": null,
   "metadata": {
    "scrolled": false
   },
   "outputs": [],
   "source": [
    "def postprocess_images(images):\n",
    "        \"\"\"Post-processes images from `torch.Tensor` to `numpy.ndarray`.\"\"\"\n",
    "        images = images.detach().cpu().numpy()\n",
    "        images = (images + 1) * 255 / 2\n",
    "        images = np.clip(images + 0.5, 0, 255).astype(np.uint8)\n",
    "        images = images.transpose(0, 2, 3, 1)\n",
    "        return images\n",
    "\n",
    "\n",
    "def save_images(codes, shifts_r, shifts_count, cf_dir, dse_dir, generator, cf_deformator, dse_deformator):\n",
    "        plt.figure(figsize=(30,30))\n",
    "        for idx, z in enumerate(codes):\n",
    "            print('Figure : ' + str(idx))\n",
    "            z_shift_cf = []\n",
    "            z_shift_dse = []\n",
    "            for i, shift in enumerate(np.linspace(-shifts_r,shifts_r,shifts_count)):\n",
    "                z_shift_cf.append(z + cf_deformator[cf_dir: cf_dir + 1] * shift)\n",
    "                z_shift_dse.append(z + dse_deformator[dse_dir: dse_dir + 1] * shift)\n",
    "            z_shift_cf = torch.stack(z_shift_cf).squeeze(dim=1)\n",
    "            z_shift_dse = torch.stack(z_shift_dse).squeeze(dim=1)\n",
    "            with torch.no_grad():\n",
    "                cf_images= generator(z_shift_cf)\n",
    "            torch.save(cf_images, os.path.join(result_path, 'temp', 'cf.pkl'))\n",
    "            del cf_images\n",
    "            with torch.no_grad():\n",
    "                dse_images= generator(z_shift_dse)\n",
    "            torch.save(dse_images, os.path.join(result_path, 'temp', 'dse.pkl'))\n",
    "            del dse_images\n",
    "            cf_images = torch.load(os.path.join(result_path, 'temp', 'cf.pkl'))\n",
    "            dse_images = torch.load(os.path.join(result_path, 'temp', 'dse.pkl'))\n",
    "            all_images = torch.cat((cf_images, dse_images), dim=0)\n",
    "            grid = torchvision.utils.make_grid(all_images.clamp(min=-1, max=1),nrow=10, scale_each=True, normalize=True)\n",
    "            display.display(plt.gcf())\n",
    "            plt.imshow(grid.permute(1, 2, 0).cpu().numpy())\n",
    "            del all_images\n",
    "            del cf_images\n",
    "            del dse_images\n",
    "            del grid\n",
    "\n",
    "    \n",
    "z_min_index = 0\n",
    "z_max_index = 5\n",
    "cf_dir = 1\n",
    "dse_dir = 1\n",
    "shift_r = 10\n",
    "shift_count = 10\n",
    "all_images = save_images(codes[z_min_index:z_max_index], shift_r, shift_count, cf_dir, dse_dir, generator, cf_deformator, dse_deformator)                    "
   ]
  }
 ],
 "metadata": {
  "kernelspec": {
   "display_name": "Python 3",
   "language": "python",
   "name": "python3"
  },
  "language_info": {
   "codemirror_mode": {
    "name": "ipython",
    "version": 3
   },
   "file_extension": ".py",
   "mimetype": "text/x-python",
   "name": "python",
   "nbconvert_exporter": "python",
   "pygments_lexer": "ipython3",
   "version": "3.6.9"
  }
 },
 "nbformat": 4,
 "nbformat_minor": 2
}
